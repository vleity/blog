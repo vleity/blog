{
 "cells": [
  {
   "cell_type": "code",
   "execution_count": 1,
   "metadata": {},
   "outputs": [],
   "source": [
    "import zmail\n",
    "from datetime import datetime"
   ]
  },
  {
   "cell_type": "markdown",
   "metadata": {},
   "source": [
    "## mail配置，发送邮件的smtp和接收邮件的pop3"
   ]
  },
  {
   "cell_type": "code",
   "execution_count": 2,
   "metadata": {},
   "outputs": [],
   "source": [
    "# 邮箱配置\n",
    "mail_config = dict(\n",
    "    username='xxxxxx@163.com',\n",
    "    password='xxxxxx',\n",
    "    smtp_host='smtp.163.com',\n",
    "    smtp_port=465,\n",
    "    smtp_ssl=True,\n",
    "    pop_host='pop.163.com',\n",
    "    pop_port=995,\n",
    "    pop_ssl=True\n",
    ")"
   ]
  },
  {
   "cell_type": "markdown",
   "metadata": {},
   "source": [
    "## 建立mail服务"
   ]
  },
  {
   "cell_type": "code",
   "execution_count": 3,
   "metadata": {},
   "outputs": [],
   "source": [
    "server = zmail.server(**mail_config)"
   ]
  },
  {
   "cell_type": "markdown",
   "metadata": {},
   "source": [
    "## 验证smtp和pop是否可用"
   ]
  },
  {
   "cell_type": "code",
   "execution_count": 4,
   "metadata": {},
   "outputs": [
    {
     "name": "stdout",
     "output_type": "stream",
     "text": [
      "smtp is ok\n",
      "pop is ok\n"
     ]
    }
   ],
   "source": [
    "if server.smtp_able():\n",
    "    print('smtp is ok')\n",
    "if server.pop_able():\n",
    "    print('pop is ok')"
   ]
  },
  {
   "cell_type": "markdown",
   "metadata": {},
   "source": [
    "## 发送邮件"
   ]
  },
  {
   "cell_type": "code",
   "execution_count": 5,
   "metadata": {},
   "outputs": [
    {
     "data": {
      "text/plain": [
       "True"
      ]
     },
     "execution_count": 5,
     "metadata": {},
     "output_type": "execute_result"
    }
   ],
   "source": [
    "server.send_mail(recipients='xxxxxx@163.com',\n",
    "                 mail={\n",
    "                    'subject': '主题',\n",
    "                    'content_text': '文本内容'\n",
    "                })"
   ]
  },
  {
   "cell_type": "markdown",
   "metadata": {},
   "source": [
    "## 收邮件"
   ]
  },
  {
   "cell_type": "code",
   "execution_count": 6,
   "metadata": {},
   "outputs": [],
   "source": [
    "# 筛选复合条件的邮件，筛选今天的邮件\n",
    "v_date = datetime.now()\n",
    "mails = server.get_mails(start_time = v_date.strftime('%Y-%m-%d'))\n",
    "\n",
    "# 根据索引获取邮件\n",
    "mail = server.get_mail(2)\n",
    "\n",
    "# 获取最后一封邮件\n",
    "mail = server.get_latest()"
   ]
  },
  {
   "cell_type": "markdown",
   "metadata": {},
   "source": [
    "## 查看邮件"
   ]
  },
  {
   "cell_type": "code",
   "execution_count": 7,
   "metadata": {},
   "outputs": [
    {
     "name": "stdout",
     "output_type": "stream",
     "text": [
      "-------------------------\n",
      "Subject  主题\n",
      "Id  36\n",
      "From  <vleity@163.com>\n",
      "To  <vleity@163.com>\n",
      "Date  2021-12-31 14:21:37+08:00\n",
      "Content_text  ['文本内容']\n",
      "Content_html  []\n",
      "Attachments  \n"
     ]
    }
   ],
   "source": [
    "zmail.show(mail)"
   ]
  }
 ],
 "metadata": {
  "kernelspec": {
   "display_name": "Python 3",
   "language": "python",
   "name": "python3"
  },
  "language_info": {
   "codemirror_mode": {
    "name": "ipython",
    "version": 3
   },
   "file_extension": ".py",
   "mimetype": "text/x-python",
   "name": "python",
   "nbconvert_exporter": "python",
   "pygments_lexer": "ipython3",
   "version": "3.7.4"
  }
 },
 "nbformat": 4,
 "nbformat_minor": 4
}
