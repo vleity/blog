{
 "cells": [
  {
   "cell_type": "markdown",
   "metadata": {},
   "source": [
    "## 使用paramiko实现ssh和sftp"
   ]
  },
  {
   "cell_type": "code",
   "execution_count": 1,
   "metadata": {},
   "outputs": [],
   "source": [
    "import paramiko"
   ]
  },
  {
   "cell_type": "code",
   "execution_count": 2,
   "metadata": {},
   "outputs": [],
   "source": [
    "def to_str(bytes_or_str):\n",
    "    \"\"\"\n",
    "    把byte类型转换为str\n",
    "    :param bytes_or_str:\n",
    "    :return:\n",
    "    \"\"\"\n",
    "    if isinstance(bytes_or_str, bytes):\n",
    "        value = bytes_or_str.decode('utf-8')\n",
    "    else:\n",
    "        value = bytes_or_str\n",
    "    return value"
   ]
  },
  {
   "cell_type": "code",
   "execution_count": 3,
   "metadata": {},
   "outputs": [],
   "source": [
    "class SSHConnection(object):\n",
    " \n",
    "    def __init__(self, host_dict):\n",
    "        self.host = host_dict['host']\n",
    "        self.port = host_dict['port']\n",
    "        self.username = host_dict['username']\n",
    "        self.pwd = host_dict['pwd']\n",
    "        self.__k = None\n",
    " \n",
    "    def connect(self):\n",
    "        transport = paramiko.Transport((self.host,self.port))\n",
    "        transport.connect(username=self.username,password=self.pwd)\n",
    "        self.__transport = transport\n",
    " \n",
    "    def close(self):\n",
    "        self.__transport.close()\n",
    " \n",
    "    def run_cmd(self, command):\n",
    "        \"\"\"\n",
    "         执行shell命令,返回字典\n",
    "         return {'color': 'red','res':error}或\n",
    "         return {'color': 'green', 'res':res}\n",
    "        :param command:\n",
    "        :return:\n",
    "        \"\"\"\n",
    "        ssh = paramiko.SSHClient()\n",
    "        ssh._transport = self.__transport\n",
    "        # 执行命令\n",
    "        stdin, stdout, stderr = ssh.exec_command(command)\n",
    "        # 获取命令结果\n",
    "        res = to_str(stdout.read())\n",
    "        # 获取错误信息\n",
    "        error = to_str(stderr.read())\n",
    "        # 如果有错误信息，返回error\n",
    "        # 否则返回res\n",
    "        if error.strip():\n",
    "            return {'color':'red','res':error}\n",
    "        else:\n",
    "            return {'color': 'green', 'res':res}\n",
    " \n",
    "    def upload(self,local_path, target_path):\n",
    "        # 连接，上传\n",
    "        sftp = paramiko.SFTPClient.from_transport(self.__transport)\n",
    "        # 将location.py 上传至服务器 /tmp/test.py\n",
    "        sftp.put(local_path, target_path, confirm=True)\n",
    "        # print(os.stat(local_path).st_mode)\n",
    "        # 增加权限\n",
    "        # sftp.chmod(target_path, os.stat(local_path).st_mode)\n",
    "        sftp.chmod(target_path, 0o755)  # 注意这里的权限是八进制的，八进制需要使用0o作为前缀\n",
    " \n",
    "    def download(self,target_path, local_path):\n",
    "        # 连接，下载\n",
    "        sftp = paramiko.SFTPClient.from_transport(self.__transport)\n",
    "        # 将location.py 下载至服务器 /tmp/test.py\n",
    "        sftp.get(target_path, local_path)\n",
    " \n",
    "    # 销毁\n",
    "    def __del__(self):\n",
    "        self.close()\n",
    " \n"
   ]
  },
  {
   "cell_type": "markdown",
   "metadata": {},
   "source": [
    "## 创建连接"
   ]
  },
  {
   "cell_type": "code",
   "execution_count": 4,
   "metadata": {},
   "outputs": [],
   "source": [
    "s = SSHConnection(dict(host='192.168.0.2',port=22,username='test',pwd='test'))\n",
    "s.connect()"
   ]
  },
  {
   "cell_type": "markdown",
   "metadata": {},
   "source": [
    "## 执行命令"
   ]
  },
  {
   "cell_type": "code",
   "execution_count": 5,
   "metadata": {},
   "outputs": [
    {
     "name": "stdout",
     "output_type": "stream",
     "text": [
      "total 96\n",
      "drwxrwxrwx    5 root root  4096 Jun 17  2021 app\n",
      "lrwxrwxrwx    1 root root     7 Jan  4  2019 bin -> usr/bin\n",
      "dr-xr-xr-x.   6 root root  4096 Mar 24  2019 boot\n",
      "drwxr-xr-x    7 root root  4096 Jan  4  2019 CloudResetPwdUpdateAgent\n",
      "drwxr-xr-x    7 root root  4096 Jan  4  2019 CloudrResetPwdAgent\n",
      "drwxr-xr-x   19 root root  3020 Feb 23  2019 dev\n",
      "drwxrwxrwx    4 root root  4096 Jun 16  2021 download\n",
      "drwxr-xr-x.  92 root root 12288 Dec 31 13:50 etc\n",
      "drwxr-xr-x.   6 root root  4096 Sep 30 13:48 home\n",
      "lrwxrwxrwx    1 root root     7 Jan  4  2019 lib -> usr/lib\n",
      "lrwxrwxrwx    1 root root     9 Jan  4  2019 lib64 -> usr/lib64\n",
      "drwx------.   2 root root 16384 Jan  4  2019 lost+found\n",
      "drwxr-xr-x.   2 root root  4096 Apr 11  2018 media\n",
      "drwxr-xr-x.   2 root root  4096 Apr 11  2018 mnt\n",
      "drwxr-xr-x.   9 root root  4096 Sep 30 11:03 opt\n",
      "dr-xr-xr-x  138 root root     0 Feb 23  2019 proc\n",
      "dr-xr-x---.  11 root root  4096 Nov 26 18:52 root\n",
      "drwxr-xr-x   34 root root  1000 Dec  1 08:50 run\n",
      "lrwxrwxrwx    1 root root     8 Jan  4  2019 sbin -> usr/sbin\n",
      "drwxr-xr-x.   2 root root  4096 Apr 11  2018 srv\n",
      "dr-xr-xr-x   13 root root     0 Feb 27  2019 sys\n",
      "drwxrwxrwt.   9 root root 16384 Dec 31 13:54 tmp\n",
      "drwxr-xr-x.  14 root root  4096 Sep 28  2017 usr\n",
      "drwxr-xr-x.  20 root root  4096 Sep 17  2019 var\n",
      "\n"
     ]
    }
   ],
   "source": [
    "print(s.run_cmd('ls -l /')['res'])"
   ]
  },
  {
   "cell_type": "markdown",
   "metadata": {},
   "source": [
    "## 上传文件"
   ]
  },
  {
   "cell_type": "code",
   "execution_count": 6,
   "metadata": {},
   "outputs": [
    {
     "name": "stdout",
     "output_type": "stream",
     "text": [
      "-rwxr-xr-x 1 leo leo 12 Dec 31 13:56 /tmp/test.txt\n",
      "\n"
     ]
    }
   ],
   "source": [
    "s.upload('test.txt','/tmp/test.txt')\n",
    "print(s.run_cmd('ls -l /tmp/test.txt')['res'])"
   ]
  },
  {
   "cell_type": "markdown",
   "metadata": {},
   "source": [
    "## 下载文件"
   ]
  },
  {
   "cell_type": "code",
   "execution_count": 7,
   "metadata": {},
   "outputs": [],
   "source": [
    "s.download('/tmp/test.txt','test1.txt')"
   ]
  }
 ],
 "metadata": {
  "kernelspec": {
   "display_name": "Python 3",
   "language": "python",
   "name": "python3"
  },
  "language_info": {
   "codemirror_mode": {
    "name": "ipython",
    "version": 3
   },
   "file_extension": ".py",
   "mimetype": "text/x-python",
   "name": "python",
   "nbconvert_exporter": "python",
   "pygments_lexer": "ipython3",
   "version": "3.7.4"
  }
 },
 "nbformat": 4,
 "nbformat_minor": 4
}
